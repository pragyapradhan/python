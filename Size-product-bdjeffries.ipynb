{
 "cells": [
  {
   "cell_type": "code",
   "execution_count": 23,
   "metadata": {
    "collapsed": true
   },
   "outputs": [],
   "source": [
    "import pandas as pd\n",
    "import numpy as np"
   ]
  },
  {
   "cell_type": "code",
   "execution_count": 3,
   "metadata": {},
   "outputs": [
    {
     "name": "stderr",
     "output_type": "stream",
     "text": [
      "C:\\Users\\prapradhan\\anaconda\\lib\\site-packages\\IPython\\core\\interactiveshell.py:2683: DtypeWarning: Columns (9,11,12,15,23,25,26,27,32,35,40,42,50,56,57,59,61,62,64,66,70,97,99,101,103,106,107,115,128,130) have mixed types. Specify dtype option on import or set low_memory=False.\n",
      "  interactivity=interactivity, compiler=compiler, result=result)\n"
     ]
    },
    {
     "data": {
      "text/html": [
       "<div>\n",
       "<table border=\"1\" class=\"dataframe\">\n",
       "  <thead>\n",
       "    <tr style=\"text-align: right;\">\n",
       "      <th></th>\n",
       "      <th>sku</th>\n",
       "      <th>_store</th>\n",
       "      <th>_attribute_set</th>\n",
       "      <th>_type</th>\n",
       "      <th>_category</th>\n",
       "      <th>_root_category</th>\n",
       "      <th>_product_websites</th>\n",
       "      <th>amconf_simple_price</th>\n",
       "      <th>amount</th>\n",
       "      <th>aquiess_scents</th>\n",
       "      <th>...</th>\n",
       "      <th>_custom_option_max_characters</th>\n",
       "      <th>_custom_option_sort_order</th>\n",
       "      <th>_custom_option_row_title</th>\n",
       "      <th>_custom_option_row_price</th>\n",
       "      <th>_custom_option_row_sku</th>\n",
       "      <th>_custom_option_row_sort</th>\n",
       "      <th>_super_products_sku</th>\n",
       "      <th>_super_attribute_code</th>\n",
       "      <th>_super_attribute_option</th>\n",
       "      <th>_super_attribute_price_corr</th>\n",
       "    </tr>\n",
       "  </thead>\n",
       "  <tbody>\n",
       "    <tr>\n",
       "      <th>0</th>\n",
       "      <td>67575</td>\n",
       "      <td>NaN</td>\n",
       "      <td>Products_Color</td>\n",
       "      <td>simple</td>\n",
       "      <td>NaN</td>\n",
       "      <td>Default Category</td>\n",
       "      <td>base</td>\n",
       "      <td>NaN</td>\n",
       "      <td>NaN</td>\n",
       "      <td>NaN</td>\n",
       "      <td>...</td>\n",
       "      <td>NaN</td>\n",
       "      <td>NaN</td>\n",
       "      <td>NaN</td>\n",
       "      <td>NaN</td>\n",
       "      <td>NaN</td>\n",
       "      <td>NaN</td>\n",
       "      <td>NaN</td>\n",
       "      <td>NaN</td>\n",
       "      <td>NaN</td>\n",
       "      <td>NaN</td>\n",
       "    </tr>\n",
       "    <tr>\n",
       "      <th>1</th>\n",
       "      <td>NaN</td>\n",
       "      <td>NaN</td>\n",
       "      <td>NaN</td>\n",
       "      <td>NaN</td>\n",
       "      <td>Gifts</td>\n",
       "      <td>Default Category</td>\n",
       "      <td>NaN</td>\n",
       "      <td>NaN</td>\n",
       "      <td>NaN</td>\n",
       "      <td>NaN</td>\n",
       "      <td>...</td>\n",
       "      <td>NaN</td>\n",
       "      <td>NaN</td>\n",
       "      <td>NaN</td>\n",
       "      <td>NaN</td>\n",
       "      <td>NaN</td>\n",
       "      <td>NaN</td>\n",
       "      <td>NaN</td>\n",
       "      <td>NaN</td>\n",
       "      <td>NaN</td>\n",
       "      <td>NaN</td>\n",
       "    </tr>\n",
       "    <tr>\n",
       "      <th>2</th>\n",
       "      <td>NaN</td>\n",
       "      <td>NaN</td>\n",
       "      <td>NaN</td>\n",
       "      <td>NaN</td>\n",
       "      <td>Gifts/Our Best Gift Picks/For Kids</td>\n",
       "      <td>Default Category</td>\n",
       "      <td>NaN</td>\n",
       "      <td>NaN</td>\n",
       "      <td>NaN</td>\n",
       "      <td>NaN</td>\n",
       "      <td>...</td>\n",
       "      <td>NaN</td>\n",
       "      <td>NaN</td>\n",
       "      <td>NaN</td>\n",
       "      <td>NaN</td>\n",
       "      <td>NaN</td>\n",
       "      <td>NaN</td>\n",
       "      <td>NaN</td>\n",
       "      <td>NaN</td>\n",
       "      <td>NaN</td>\n",
       "      <td>NaN</td>\n",
       "    </tr>\n",
       "    <tr>\n",
       "      <th>3</th>\n",
       "      <td>NaN</td>\n",
       "      <td>NaN</td>\n",
       "      <td>NaN</td>\n",
       "      <td>NaN</td>\n",
       "      <td>Gifts/Our Best Gift Picks/For Kids/Apparel &amp; A...</td>\n",
       "      <td>Default Category</td>\n",
       "      <td>NaN</td>\n",
       "      <td>NaN</td>\n",
       "      <td>NaN</td>\n",
       "      <td>NaN</td>\n",
       "      <td>...</td>\n",
       "      <td>NaN</td>\n",
       "      <td>NaN</td>\n",
       "      <td>NaN</td>\n",
       "      <td>NaN</td>\n",
       "      <td>NaN</td>\n",
       "      <td>NaN</td>\n",
       "      <td>NaN</td>\n",
       "      <td>NaN</td>\n",
       "      <td>NaN</td>\n",
       "      <td>NaN</td>\n",
       "    </tr>\n",
       "    <tr>\n",
       "      <th>4</th>\n",
       "      <td>67576</td>\n",
       "      <td>NaN</td>\n",
       "      <td>Products_Color</td>\n",
       "      <td>simple</td>\n",
       "      <td>NaN</td>\n",
       "      <td>Default Category</td>\n",
       "      <td>base</td>\n",
       "      <td>NaN</td>\n",
       "      <td>NaN</td>\n",
       "      <td>NaN</td>\n",
       "      <td>...</td>\n",
       "      <td>NaN</td>\n",
       "      <td>NaN</td>\n",
       "      <td>NaN</td>\n",
       "      <td>NaN</td>\n",
       "      <td>NaN</td>\n",
       "      <td>NaN</td>\n",
       "      <td>NaN</td>\n",
       "      <td>NaN</td>\n",
       "      <td>NaN</td>\n",
       "      <td>NaN</td>\n",
       "    </tr>\n",
       "  </tbody>\n",
       "</table>\n",
       "<p>5 rows × 134 columns</p>\n",
       "</div>"
      ],
      "text/plain": [
       "     sku  _store  _attribute_set   _type  \\\n",
       "0  67575     NaN  Products_Color  simple   \n",
       "1    NaN     NaN             NaN     NaN   \n",
       "2    NaN     NaN             NaN     NaN   \n",
       "3    NaN     NaN             NaN     NaN   \n",
       "4  67576     NaN  Products_Color  simple   \n",
       "\n",
       "                                           _category    _root_category  \\\n",
       "0                                                NaN  Default Category   \n",
       "1                                              Gifts  Default Category   \n",
       "2                 Gifts/Our Best Gift Picks/For Kids  Default Category   \n",
       "3  Gifts/Our Best Gift Picks/For Kids/Apparel & A...  Default Category   \n",
       "4                                                NaN  Default Category   \n",
       "\n",
       "  _product_websites amconf_simple_price  amount aquiess_scents  \\\n",
       "0              base                 NaN     NaN            NaN   \n",
       "1               NaN                 NaN     NaN            NaN   \n",
       "2               NaN                 NaN     NaN            NaN   \n",
       "3               NaN                 NaN     NaN            NaN   \n",
       "4              base                 NaN     NaN            NaN   \n",
       "\n",
       "              ...               _custom_option_max_characters  \\\n",
       "0             ...                                         NaN   \n",
       "1             ...                                         NaN   \n",
       "2             ...                                         NaN   \n",
       "3             ...                                         NaN   \n",
       "4             ...                                         NaN   \n",
       "\n",
       "  _custom_option_sort_order _custom_option_row_title _custom_option_row_price  \\\n",
       "0                       NaN                      NaN                      NaN   \n",
       "1                       NaN                      NaN                      NaN   \n",
       "2                       NaN                      NaN                      NaN   \n",
       "3                       NaN                      NaN                      NaN   \n",
       "4                       NaN                      NaN                      NaN   \n",
       "\n",
       "   _custom_option_row_sku _custom_option_row_sort _super_products_sku  \\\n",
       "0                     NaN                     NaN                 NaN   \n",
       "1                     NaN                     NaN                 NaN   \n",
       "2                     NaN                     NaN                 NaN   \n",
       "3                     NaN                     NaN                 NaN   \n",
       "4                     NaN                     NaN                 NaN   \n",
       "\n",
       "   _super_attribute_code  _super_attribute_option  _super_attribute_price_corr  \n",
       "0                    NaN                      NaN                          NaN  \n",
       "1                    NaN                      NaN                          NaN  \n",
       "2                    NaN                      NaN                          NaN  \n",
       "3                    NaN                      NaN                          NaN  \n",
       "4                    NaN                      NaN                          NaN  \n",
       "\n",
       "[5 rows x 134 columns]"
      ]
     },
     "execution_count": 3,
     "metadata": {},
     "output_type": "execute_result"
    }
   ],
   "source": [
    "df = pd.read_csv('catalog_product_20170526_112122.csv')\n",
    "df.head()"
   ]
  },
  {
   "cell_type": "code",
   "execution_count": 4,
   "metadata": {},
   "outputs": [
    {
     "data": {
      "text/plain": [
       "Index(['sku', '_store', '_attribute_set', '_type', '_category',\n",
       "       '_root_category', '_product_websites', 'amconf_simple_price', 'amount',\n",
       "       'aquiess_scents',\n",
       "       ...\n",
       "       '_custom_option_max_characters', '_custom_option_sort_order',\n",
       "       '_custom_option_row_title', '_custom_option_row_price',\n",
       "       '_custom_option_row_sku', '_custom_option_row_sort',\n",
       "       '_super_products_sku', '_super_attribute_code',\n",
       "       '_super_attribute_option', '_super_attribute_price_corr'],\n",
       "      dtype='object', length=134)"
      ]
     },
     "execution_count": 4,
     "metadata": {},
     "output_type": "execute_result"
    }
   ],
   "source": [
    "df.columns"
   ]
  },
  {
   "cell_type": "code",
   "execution_count": 5,
   "metadata": {
    "collapsed": true
   },
   "outputs": [],
   "source": [
    "global test\n",
    "test = {}\n",
    "\n",
    "def uniq(ser_val):\n",
    "    test[ser_val.name] = ser_val.dropna().unique()\n",
    "    \n",
    "\n",
    "\n",
    "df.apply(uniq)\n",
    "\n",
    "# print (test.values())\n",
    "\n",
    "pd.DataFrame(dict([ (k,pd.Series(test[k])) for k in test.keys() ])).to_csv('unique-col-val.csv', index=False)\n"
   ]
  },
  {
   "cell_type": "code",
   "execution_count": 6,
   "metadata": {},
   "outputs": [
    {
     "data": {
      "text/plain": [
       "array(['simple', nan, 'configurable', 'grouped'], dtype=object)"
      ]
     },
     "execution_count": 6,
     "metadata": {},
     "output_type": "execute_result"
    }
   ],
   "source": [
    "df[\"_type\"].unique() "
   ]
  },
  {
   "cell_type": "code",
   "execution_count": 7,
   "metadata": {
    "collapsed": true
   },
   "outputs": [],
   "source": [
    "df3 = pd.DataFrame()\n",
    "df3['color'] = df[\"color\"].dropna().unique()\n",
    "df3.to_csv('Color.csv', index = False)"
   ]
  },
  {
   "cell_type": "code",
   "execution_count": null,
   "metadata": {
    "collapsed": true
   },
   "outputs": [],
   "source": []
  },
  {
   "cell_type": "code",
   "execution_count": 8,
   "metadata": {
    "collapsed": true
   },
   "outputs": [],
   "source": [
    "df1 = pd.DataFrame()\n",
    "df1['size'] = df['size'].dropna().unique()"
   ]
  },
  {
   "cell_type": "code",
   "execution_count": 9,
   "metadata": {},
   "outputs": [
    {
     "data": {
      "text/plain": [
       "126"
      ]
     },
     "execution_count": 9,
     "metadata": {},
     "output_type": "execute_result"
    }
   ],
   "source": [
    "df1['size'].count()"
   ]
  },
  {
   "cell_type": "code",
   "execution_count": 10,
   "metadata": {
    "collapsed": true
   },
   "outputs": [],
   "source": [
    "df1.to_csv('size.csv', index=False)"
   ]
  },
  {
   "cell_type": "code",
   "execution_count": 11,
   "metadata": {},
   "outputs": [
    {
     "name": "stderr",
     "output_type": "stream",
     "text": [
      "C:\\Users\\prapradhan\\anaconda\\lib\\site-packages\\IPython\\core\\interactiveshell.py:2683: DtypeWarning: Columns (9,11,12,15,23,25,26,27,32,35,40,42,50,56,57,59,61,62,64,66,70,97,99,101,103,106,107,115,128,130) have mixed types. Specify dtype option on import or set low_memory=False.\n",
      "  interactivity=interactivity, compiler=compiler, result=result)\n"
     ]
    },
    {
     "data": {
      "text/html": [
       "<div>\n",
       "<table border=\"1\" class=\"dataframe\">\n",
       "  <thead>\n",
       "    <tr style=\"text-align: right;\">\n",
       "      <th></th>\n",
       "      <th>sku</th>\n",
       "      <th>_store</th>\n",
       "      <th>_attribute_set</th>\n",
       "      <th>_type</th>\n",
       "      <th>_category</th>\n",
       "      <th>_root_category</th>\n",
       "      <th>_product_websites</th>\n",
       "      <th>amconf_simple_price</th>\n",
       "      <th>amount</th>\n",
       "      <th>aquiess_scents</th>\n",
       "      <th>...</th>\n",
       "      <th>_custom_option_max_characters</th>\n",
       "      <th>_custom_option_sort_order</th>\n",
       "      <th>_custom_option_row_title</th>\n",
       "      <th>_custom_option_row_price</th>\n",
       "      <th>_custom_option_row_sku</th>\n",
       "      <th>_custom_option_row_sort</th>\n",
       "      <th>_super_products_sku</th>\n",
       "      <th>_super_attribute_code</th>\n",
       "      <th>_super_attribute_option</th>\n",
       "      <th>_super_attribute_price_corr</th>\n",
       "    </tr>\n",
       "  </thead>\n",
       "  <tbody>\n",
       "    <tr>\n",
       "      <th>0</th>\n",
       "      <td>67575</td>\n",
       "      <td>NaN</td>\n",
       "      <td>Products_Color</td>\n",
       "      <td>simple</td>\n",
       "      <td>NaN</td>\n",
       "      <td>Default Category</td>\n",
       "      <td>base</td>\n",
       "      <td>NaN</td>\n",
       "      <td>NaN</td>\n",
       "      <td>NaN</td>\n",
       "      <td>...</td>\n",
       "      <td>NaN</td>\n",
       "      <td>NaN</td>\n",
       "      <td>NaN</td>\n",
       "      <td>NaN</td>\n",
       "      <td>NaN</td>\n",
       "      <td>NaN</td>\n",
       "      <td>NaN</td>\n",
       "      <td>NaN</td>\n",
       "      <td>NaN</td>\n",
       "      <td>NaN</td>\n",
       "    </tr>\n",
       "    <tr>\n",
       "      <th>1</th>\n",
       "      <td>NaN</td>\n",
       "      <td>NaN</td>\n",
       "      <td>NaN</td>\n",
       "      <td>NaN</td>\n",
       "      <td>Gifts</td>\n",
       "      <td>Default Category</td>\n",
       "      <td>NaN</td>\n",
       "      <td>NaN</td>\n",
       "      <td>NaN</td>\n",
       "      <td>NaN</td>\n",
       "      <td>...</td>\n",
       "      <td>NaN</td>\n",
       "      <td>NaN</td>\n",
       "      <td>NaN</td>\n",
       "      <td>NaN</td>\n",
       "      <td>NaN</td>\n",
       "      <td>NaN</td>\n",
       "      <td>NaN</td>\n",
       "      <td>NaN</td>\n",
       "      <td>NaN</td>\n",
       "      <td>NaN</td>\n",
       "    </tr>\n",
       "    <tr>\n",
       "      <th>2</th>\n",
       "      <td>NaN</td>\n",
       "      <td>NaN</td>\n",
       "      <td>NaN</td>\n",
       "      <td>NaN</td>\n",
       "      <td>Gifts/Our Best Gift Picks/For Kids</td>\n",
       "      <td>Default Category</td>\n",
       "      <td>NaN</td>\n",
       "      <td>NaN</td>\n",
       "      <td>NaN</td>\n",
       "      <td>NaN</td>\n",
       "      <td>...</td>\n",
       "      <td>NaN</td>\n",
       "      <td>NaN</td>\n",
       "      <td>NaN</td>\n",
       "      <td>NaN</td>\n",
       "      <td>NaN</td>\n",
       "      <td>NaN</td>\n",
       "      <td>NaN</td>\n",
       "      <td>NaN</td>\n",
       "      <td>NaN</td>\n",
       "      <td>NaN</td>\n",
       "    </tr>\n",
       "  </tbody>\n",
       "</table>\n",
       "<p>3 rows × 134 columns</p>\n",
       "</div>"
      ],
      "text/plain": [
       "     sku  _store  _attribute_set   _type                           _category  \\\n",
       "0  67575     NaN  Products_Color  simple                                 NaN   \n",
       "1    NaN     NaN             NaN     NaN                               Gifts   \n",
       "2    NaN     NaN             NaN     NaN  Gifts/Our Best Gift Picks/For Kids   \n",
       "\n",
       "     _root_category _product_websites amconf_simple_price  amount  \\\n",
       "0  Default Category              base                 NaN     NaN   \n",
       "1  Default Category               NaN                 NaN     NaN   \n",
       "2  Default Category               NaN                 NaN     NaN   \n",
       "\n",
       "  aquiess_scents             ...               _custom_option_max_characters  \\\n",
       "0            NaN             ...                                         NaN   \n",
       "1            NaN             ...                                         NaN   \n",
       "2            NaN             ...                                         NaN   \n",
       "\n",
       "  _custom_option_sort_order _custom_option_row_title _custom_option_row_price  \\\n",
       "0                       NaN                      NaN                      NaN   \n",
       "1                       NaN                      NaN                      NaN   \n",
       "2                       NaN                      NaN                      NaN   \n",
       "\n",
       "   _custom_option_row_sku _custom_option_row_sort _super_products_sku  \\\n",
       "0                     NaN                     NaN                 NaN   \n",
       "1                     NaN                     NaN                 NaN   \n",
       "2                     NaN                     NaN                 NaN   \n",
       "\n",
       "   _super_attribute_code  _super_attribute_option  _super_attribute_price_corr  \n",
       "0                    NaN                      NaN                          NaN  \n",
       "1                    NaN                      NaN                          NaN  \n",
       "2                    NaN                      NaN                          NaN  \n",
       "\n",
       "[3 rows x 134 columns]"
      ]
     },
     "execution_count": 11,
     "metadata": {},
     "output_type": "execute_result"
    }
   ],
   "source": [
    "df = pd.read_csv('catalog_product_20170526_112122.csv')\n",
    "df.head(3)"
   ]
  },
  {
   "cell_type": "code",
   "execution_count": 19,
   "metadata": {},
   "outputs": [],
   "source": [
    "a = df.columns[df.isnull().all()]"
   ]
  },
  {
   "cell_type": "code",
   "execution_count": 13,
   "metadata": {
    "collapsed": true
   },
   "outputs": [],
   "source": [
    "df2 = pd.DataFrame()"
   ]
  },
  {
   "cell_type": "code",
   "execution_count": 14,
   "metadata": {
    "collapsed": true
   },
   "outputs": [],
   "source": [
    "df2['emptycols']= a"
   ]
  },
  {
   "cell_type": "code",
   "execution_count": 15,
   "metadata": {
    "collapsed": true
   },
   "outputs": [],
   "source": [
    "df2.to_csv(\"empty.csv\", index = False)"
   ]
  },
  {
   "cell_type": "code",
   "execution_count": null,
   "metadata": {
    "collapsed": true
   },
   "outputs": [],
   "source": []
  },
  {
   "cell_type": "code",
   "execution_count": 22,
   "metadata": {},
   "outputs": [
    {
     "name": "stderr",
     "output_type": "stream",
     "text": [
      "C:\\Users\\prapradhan\\anaconda\\lib\\site-packages\\IPython\\core\\interactiveshell.py:2683: DtypeWarning: Columns (9,11,12,15,23,25,26,27,32,35,40,42,50,56,57,59,61,62,64,66,70,97,99,101,103,106,107,115,128,130) have mixed types. Specify dtype option on import or set low_memory=False.\n",
      "  interactivity=interactivity, compiler=compiler, result=result)\n"
     ]
    },
    {
     "data": {
      "text/html": [
       "<div>\n",
       "<table border=\"1\" class=\"dataframe\">\n",
       "  <thead>\n",
       "    <tr style=\"text-align: right;\">\n",
       "      <th></th>\n",
       "      <th>sku</th>\n",
       "      <th>_store</th>\n",
       "      <th>_attribute_set</th>\n",
       "      <th>_type</th>\n",
       "      <th>_category</th>\n",
       "      <th>_root_category</th>\n",
       "      <th>_product_websites</th>\n",
       "      <th>amconf_simple_price</th>\n",
       "      <th>amount</th>\n",
       "      <th>aquiess_scents</th>\n",
       "      <th>...</th>\n",
       "      <th>_custom_option_max_characters</th>\n",
       "      <th>_custom_option_sort_order</th>\n",
       "      <th>_custom_option_row_title</th>\n",
       "      <th>_custom_option_row_price</th>\n",
       "      <th>_custom_option_row_sku</th>\n",
       "      <th>_custom_option_row_sort</th>\n",
       "      <th>_super_products_sku</th>\n",
       "      <th>_super_attribute_code</th>\n",
       "      <th>_super_attribute_option</th>\n",
       "      <th>_super_attribute_price_corr</th>\n",
       "    </tr>\n",
       "  </thead>\n",
       "  <tbody>\n",
       "    <tr>\n",
       "      <th>0</th>\n",
       "      <td>67575</td>\n",
       "      <td>NaN</td>\n",
       "      <td>Products_Color</td>\n",
       "      <td>simple</td>\n",
       "      <td>NaN</td>\n",
       "      <td>Default Category</td>\n",
       "      <td>base</td>\n",
       "      <td>NaN</td>\n",
       "      <td>NaN</td>\n",
       "      <td>NaN</td>\n",
       "      <td>...</td>\n",
       "      <td>NaN</td>\n",
       "      <td>NaN</td>\n",
       "      <td>NaN</td>\n",
       "      <td>NaN</td>\n",
       "      <td>NaN</td>\n",
       "      <td>NaN</td>\n",
       "      <td>NaN</td>\n",
       "      <td>NaN</td>\n",
       "      <td>NaN</td>\n",
       "      <td>NaN</td>\n",
       "    </tr>\n",
       "    <tr>\n",
       "      <th>1</th>\n",
       "      <td>NaN</td>\n",
       "      <td>NaN</td>\n",
       "      <td>NaN</td>\n",
       "      <td>NaN</td>\n",
       "      <td>Gifts</td>\n",
       "      <td>Default Category</td>\n",
       "      <td>NaN</td>\n",
       "      <td>NaN</td>\n",
       "      <td>NaN</td>\n",
       "      <td>NaN</td>\n",
       "      <td>...</td>\n",
       "      <td>NaN</td>\n",
       "      <td>NaN</td>\n",
       "      <td>NaN</td>\n",
       "      <td>NaN</td>\n",
       "      <td>NaN</td>\n",
       "      <td>NaN</td>\n",
       "      <td>NaN</td>\n",
       "      <td>NaN</td>\n",
       "      <td>NaN</td>\n",
       "      <td>NaN</td>\n",
       "    </tr>\n",
       "    <tr>\n",
       "      <th>2</th>\n",
       "      <td>NaN</td>\n",
       "      <td>NaN</td>\n",
       "      <td>NaN</td>\n",
       "      <td>NaN</td>\n",
       "      <td>Gifts/Our Best Gift Picks/For Kids</td>\n",
       "      <td>Default Category</td>\n",
       "      <td>NaN</td>\n",
       "      <td>NaN</td>\n",
       "      <td>NaN</td>\n",
       "      <td>NaN</td>\n",
       "      <td>...</td>\n",
       "      <td>NaN</td>\n",
       "      <td>NaN</td>\n",
       "      <td>NaN</td>\n",
       "      <td>NaN</td>\n",
       "      <td>NaN</td>\n",
       "      <td>NaN</td>\n",
       "      <td>NaN</td>\n",
       "      <td>NaN</td>\n",
       "      <td>NaN</td>\n",
       "      <td>NaN</td>\n",
       "    </tr>\n",
       "    <tr>\n",
       "      <th>3</th>\n",
       "      <td>NaN</td>\n",
       "      <td>NaN</td>\n",
       "      <td>NaN</td>\n",
       "      <td>NaN</td>\n",
       "      <td>Gifts/Our Best Gift Picks/For Kids/Apparel &amp; A...</td>\n",
       "      <td>Default Category</td>\n",
       "      <td>NaN</td>\n",
       "      <td>NaN</td>\n",
       "      <td>NaN</td>\n",
       "      <td>NaN</td>\n",
       "      <td>...</td>\n",
       "      <td>NaN</td>\n",
       "      <td>NaN</td>\n",
       "      <td>NaN</td>\n",
       "      <td>NaN</td>\n",
       "      <td>NaN</td>\n",
       "      <td>NaN</td>\n",
       "      <td>NaN</td>\n",
       "      <td>NaN</td>\n",
       "      <td>NaN</td>\n",
       "      <td>NaN</td>\n",
       "    </tr>\n",
       "    <tr>\n",
       "      <th>4</th>\n",
       "      <td>67576</td>\n",
       "      <td>NaN</td>\n",
       "      <td>Products_Color</td>\n",
       "      <td>simple</td>\n",
       "      <td>NaN</td>\n",
       "      <td>Default Category</td>\n",
       "      <td>base</td>\n",
       "      <td>NaN</td>\n",
       "      <td>NaN</td>\n",
       "      <td>NaN</td>\n",
       "      <td>...</td>\n",
       "      <td>NaN</td>\n",
       "      <td>NaN</td>\n",
       "      <td>NaN</td>\n",
       "      <td>NaN</td>\n",
       "      <td>NaN</td>\n",
       "      <td>NaN</td>\n",
       "      <td>NaN</td>\n",
       "      <td>NaN</td>\n",
       "      <td>NaN</td>\n",
       "      <td>NaN</td>\n",
       "    </tr>\n",
       "  </tbody>\n",
       "</table>\n",
       "<p>5 rows × 134 columns</p>\n",
       "</div>"
      ],
      "text/plain": [
       "     sku  _store  _attribute_set   _type  \\\n",
       "0  67575     NaN  Products_Color  simple   \n",
       "1    NaN     NaN             NaN     NaN   \n",
       "2    NaN     NaN             NaN     NaN   \n",
       "3    NaN     NaN             NaN     NaN   \n",
       "4  67576     NaN  Products_Color  simple   \n",
       "\n",
       "                                           _category    _root_category  \\\n",
       "0                                                NaN  Default Category   \n",
       "1                                              Gifts  Default Category   \n",
       "2                 Gifts/Our Best Gift Picks/For Kids  Default Category   \n",
       "3  Gifts/Our Best Gift Picks/For Kids/Apparel & A...  Default Category   \n",
       "4                                                NaN  Default Category   \n",
       "\n",
       "  _product_websites amconf_simple_price  amount aquiess_scents  \\\n",
       "0              base                 NaN     NaN            NaN   \n",
       "1               NaN                 NaN     NaN            NaN   \n",
       "2               NaN                 NaN     NaN            NaN   \n",
       "3               NaN                 NaN     NaN            NaN   \n",
       "4              base                 NaN     NaN            NaN   \n",
       "\n",
       "              ...               _custom_option_max_characters  \\\n",
       "0             ...                                         NaN   \n",
       "1             ...                                         NaN   \n",
       "2             ...                                         NaN   \n",
       "3             ...                                         NaN   \n",
       "4             ...                                         NaN   \n",
       "\n",
       "  _custom_option_sort_order _custom_option_row_title _custom_option_row_price  \\\n",
       "0                       NaN                      NaN                      NaN   \n",
       "1                       NaN                      NaN                      NaN   \n",
       "2                       NaN                      NaN                      NaN   \n",
       "3                       NaN                      NaN                      NaN   \n",
       "4                       NaN                      NaN                      NaN   \n",
       "\n",
       "   _custom_option_row_sku _custom_option_row_sort _super_products_sku  \\\n",
       "0                     NaN                     NaN                 NaN   \n",
       "1                     NaN                     NaN                 NaN   \n",
       "2                     NaN                     NaN                 NaN   \n",
       "3                     NaN                     NaN                 NaN   \n",
       "4                     NaN                     NaN                 NaN   \n",
       "\n",
       "   _super_attribute_code  _super_attribute_option  _super_attribute_price_corr  \n",
       "0                    NaN                      NaN                          NaN  \n",
       "1                    NaN                      NaN                          NaN  \n",
       "2                    NaN                      NaN                          NaN  \n",
       "3                    NaN                      NaN                          NaN  \n",
       "4                    NaN                      NaN                          NaN  \n",
       "\n",
       "[5 rows x 134 columns]"
      ]
     },
     "execution_count": 22,
     "metadata": {},
     "output_type": "execute_result"
    }
   ],
   "source": [
    "df = pd.read_csv('catalog_product_20170526_112122.csv')\n",
    "df.head()"
   ]
  },
  {
   "cell_type": "code",
   "execution_count": 20,
   "metadata": {},
   "outputs": [
    {
     "data": {
      "text/plain": [
       "Index(['_store', 'bar_soap', 'cost', 'custom_design', 'custom_design_from',\n",
       "       'custom_design_to', 'custom_layout_update', 'giftcard1', 'glass',\n",
       "       'manufacturer', 'media_gallery', 'minimal_price', 'msrp', 'pattern',\n",
       "       'product', '_group_price_website', '_group_price_customer_group',\n",
       "       '_group_price_price'],\n",
       "      dtype='object')"
      ]
     },
     "execution_count": 20,
     "metadata": {},
     "output_type": "execute_result"
    }
   ],
   "source": [
    "df.columns[df.isnull().all()]"
   ]
  },
  {
   "cell_type": "code",
   "execution_count": null,
   "metadata": {
    "collapsed": true
   },
   "outputs": [],
   "source": []
  },
  {
   "cell_type": "code",
   "execution_count": 37,
   "metadata": {},
   "outputs": [],
   "source": [
    "\n",
    "df = pd.DataFrame({\n",
    "    'Id': [1, 2, 3],\n",
    "    'Age': [23, 34, 56],\n",
    "    'Name': [np.NaN, \"Ram\", np.NaN ]\n",
    "})"
   ]
  },
  {
   "cell_type": "code",
   "execution_count": 38,
   "metadata": {},
   "outputs": [
    {
     "data": {
      "text/html": [
       "<div>\n",
       "<table border=\"1\" class=\"dataframe\">\n",
       "  <thead>\n",
       "    <tr style=\"text-align: right;\">\n",
       "      <th></th>\n",
       "      <th>Age</th>\n",
       "      <th>Id</th>\n",
       "      <th>Name</th>\n",
       "    </tr>\n",
       "  </thead>\n",
       "  <tbody>\n",
       "    <tr>\n",
       "      <th>0</th>\n",
       "      <td>23</td>\n",
       "      <td>1</td>\n",
       "      <td>NaN</td>\n",
       "    </tr>\n",
       "    <tr>\n",
       "      <th>1</th>\n",
       "      <td>34</td>\n",
       "      <td>2</td>\n",
       "      <td>Ram</td>\n",
       "    </tr>\n",
       "    <tr>\n",
       "      <th>2</th>\n",
       "      <td>56</td>\n",
       "      <td>3</td>\n",
       "      <td>NaN</td>\n",
       "    </tr>\n",
       "  </tbody>\n",
       "</table>\n",
       "</div>"
      ],
      "text/plain": [
       "   Age  Id Name\n",
       "0   23   1  NaN\n",
       "1   34   2  Ram\n",
       "2   56   3  NaN"
      ]
     },
     "execution_count": 38,
     "metadata": {},
     "output_type": "execute_result"
    }
   ],
   "source": [
    "df"
   ]
  },
  {
   "cell_type": "code",
   "execution_count": 39,
   "metadata": {},
   "outputs": [],
   "source": [
    "a = df.index[df.isnull().any()]"
   ]
  },
  {
   "cell_type": "code",
   "execution_count": 40,
   "metadata": {},
   "outputs": [
    {
     "data": {
      "text/plain": [
       "2    1\n",
       "dtype: int64"
      ]
     },
     "execution_count": 40,
     "metadata": {},
     "output_type": "execute_result"
    }
   ],
   "source": [
    "a.value_counts()"
   ]
  },
  {
   "cell_type": "code",
   "execution_count": 42,
   "metadata": {},
   "outputs": [
    {
     "data": {
      "text/plain": [
       "array([2], dtype=int64)"
      ]
     },
     "execution_count": 42,
     "metadata": {},
     "output_type": "execute_result"
    }
   ],
   "source": [
    "a.values"
   ]
  },
  {
   "cell_type": "code",
   "execution_count": null,
   "metadata": {
    "collapsed": true
   },
   "outputs": [],
   "source": []
  }
 ],
 "metadata": {
  "kernelspec": {
   "display_name": "Python 3",
   "language": "python",
   "name": "python3"
  },
  "language_info": {
   "codemirror_mode": {
    "name": "ipython",
    "version": 3
   },
   "file_extension": ".py",
   "mimetype": "text/x-python",
   "name": "python",
   "nbconvert_exporter": "python",
   "pygments_lexer": "ipython3",
   "version": "3.6.1"
  }
 },
 "nbformat": 4,
 "nbformat_minor": 2
}
