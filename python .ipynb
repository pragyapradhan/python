{
 "cells": [
  {
   "cell_type": "code",
   "execution_count": 5,
   "metadata": {},
   "outputs": [
    {
     "name": "stdout",
     "output_type": "stream",
     "text": [
      "Hello World\n"
     ]
    }
   ],
   "source": [
    "print(\"Hello World\")"
   ]
  },
  {
   "cell_type": "code",
   "execution_count": 24,
   "metadata": {
    "collapsed": true
   },
   "outputs": [
    {
     "name": "stdout",
     "output_type": "stream",
     "text": [
      "[4, 6, 6, 4]\n"
     ]
    }
   ],
   "source": [
    "df =[1,2,3,4]\n",
    "df1 =[4,3,2,1]\n",
    "\n",
    "res = []\n",
    "for i, items in enumerate(df):\n",
    "    res.append(df[i]*df1[i])\n",
    "print (res)"
   ]
  },
  {
   "cell_type": "code",
   "execution_count": 26,
   "metadata": {
    "collapsed": true
   },
   "outputs": [
    {
     "name": "stdout",
     "output_type": "stream",
     "text": [
      "1\n",
      "2\n",
      "3\n",
      "4\n"
     ]
    }
   ],
   "source": [
    "for items in df:\n",
    "    print (items)"
   ]
  },
  {
   "cell_type": "code",
   "execution_count": 27,
   "metadata": {
    "collapsed": true
   },
   "outputs": [
    {
     "name": "stdout",
     "output_type": "stream",
     "text": [
      "0 1\n",
      "1 2\n",
      "2 3\n",
      "3 4\n"
     ]
    }
   ],
   "source": [
    "for i, items in enumerate(df):\n",
    "    print (i, items)"
   ]
  },
  {
   "cell_type": "code",
   "execution_count": 37,
   "metadata": {
    "collapsed": true
   },
   "outputs": [
    {
     "name": "stdout",
     "output_type": "stream",
     "text": [
      "B is greater than a\n",
      "68\n"
     ]
    }
   ],
   "source": [
    "a = 45\n",
    "b = 100\n",
    "c = 67\n",
    "\n",
    "\n",
    "if a > b:\n",
    "    print(\"A is greater than b\")\n",
    "else: \n",
    "    print (\"B is greater than a\")\n",
    "    \n",
    "if a > b and c > b:\n",
    "    print(\"C is the smallest number\")\n",
    "else:\n",
    "    c= c+1\n",
    "    print(c)\n",
    "    "
   ]
  },
  {
   "cell_type": "code",
   "execution_count": 80,
   "metadata": {
    "collapsed": true
   },
   "outputs": [],
   "source": [
    "a = range(1,101)"
   ]
  },
  {
   "cell_type": "code",
   "execution_count": 82,
   "metadata": {
    "collapsed": true
   },
   "outputs": [
    {
     "name": "stdout",
     "output_type": "stream",
     "text": [
      "1 not any\n",
      "2 not any\n",
      "3 fizz\n",
      "4 not any\n",
      "5 buzz\n",
      "6 fizz\n",
      "7 not any\n",
      "8 not any\n",
      "9 fizz\n",
      "10 buzz\n",
      "11 not any\n",
      "12 fizz\n",
      "13 not any\n",
      "14 not any\n",
      "15 fizzbuzz\n",
      "16 not any\n",
      "17 not any\n",
      "18 fizz\n",
      "19 not any\n",
      "20 buzz\n",
      "21 fizz\n",
      "22 not any\n",
      "23 not any\n",
      "24 fizz\n",
      "25 buzz\n",
      "26 not any\n",
      "27 fizz\n",
      "28 not any\n",
      "29 not any\n",
      "30 fizzbuzz\n",
      "31 not any\n",
      "32 not any\n",
      "33 fizz\n",
      "34 not any\n",
      "35 buzz\n",
      "36 fizz\n",
      "37 not any\n",
      "38 not any\n",
      "39 fizz\n",
      "40 buzz\n",
      "41 not any\n",
      "42 fizz\n",
      "43 not any\n",
      "44 not any\n",
      "45 fizzbuzz\n",
      "46 not any\n",
      "47 not any\n",
      "48 fizz\n",
      "49 not any\n",
      "50 buzz\n",
      "51 fizz\n",
      "52 not any\n",
      "53 not any\n",
      "54 fizz\n",
      "55 buzz\n",
      "56 not any\n",
      "57 fizz\n",
      "58 not any\n",
      "59 not any\n",
      "60 fizzbuzz\n",
      "61 not any\n",
      "62 not any\n",
      "63 fizz\n",
      "64 not any\n",
      "65 buzz\n",
      "66 fizz\n",
      "67 not any\n",
      "68 not any\n",
      "69 fizz\n",
      "70 buzz\n",
      "71 not any\n",
      "72 fizz\n",
      "73 not any\n",
      "74 not any\n",
      "75 fizzbuzz\n",
      "76 not any\n",
      "77 not any\n",
      "78 fizz\n",
      "79 not any\n",
      "80 buzz\n",
      "81 fizz\n",
      "82 not any\n",
      "83 not any\n",
      "84 fizz\n",
      "85 buzz\n",
      "86 not any\n",
      "87 fizz\n",
      "88 not any\n",
      "89 not any\n",
      "90 fizzbuzz\n",
      "91 not any\n",
      "92 not any\n",
      "93 fizz\n",
      "94 not any\n",
      "95 buzz\n",
      "96 fizz\n",
      "97 not any\n",
      "98 not any\n",
      "99 fizz\n",
      "100 buzz\n"
     ]
    }
   ],
   "source": [
    "for i in a:\n",
    "    if i % 3 == 0 and i%5==0:\n",
    "        print(i,\"Divisible by 5 & 3\")\n",
    "    elif i % 5 == 0:\n",
    "        print (i,\"buzz\")\n",
    "    elif i % 3 == 0:\n",
    "        print(i,\"fizz\")\n",
    "    else:\n",
    "        print (i,\"not any\")\n"
   ]
  },
  {
   "cell_type": "code",
   "execution_count": 102,
   "metadata": {},
   "outputs": [
    {
     "name": "stdout",
     "output_type": "stream",
     "text": [
      "[0, 1, 4, 9, 16, 25, 36, 49, 64, 81, 100]\n"
     ]
    }
   ],
   "source": [
    "list = []\n",
    "a = range(11)\n",
    "for i in a:\n",
    "    list.append(i*i)\n",
    "print( list)\n"
   ]
  },
  {
   "cell_type": "code",
   "execution_count": 135,
   "metadata": {},
   "outputs": [
    {
     "name": "stdout",
     "output_type": "stream",
     "text": [
      "[0, 2, 4, 6, 8, 10]\n"
     ]
    }
   ],
   "source": [
    "list = []\n",
    "a = range(11)\n",
    "for i in a :\n",
    "    if i % 2 == 0:\n",
    "        list.append(i)\n",
    "print(list)"
   ]
  },
  {
   "cell_type": "code",
   "execution_count": null,
   "metadata": {},
   "outputs": [],
   "source": [
    "a = range(1000)\n",
    "while a % 2 == 0:\n",
    "    a += 1\n"
   ]
  },
  {
   "cell_type": "code",
   "execution_count": null,
   "metadata": {
    "collapsed": true
   },
   "outputs": [],
   "source": [
    "\n",
    "def check_prime(n):\n",
    "    if n > 1:\n",
    "        if n == 2: print (True)\n",
    "        for i in range(n -1, 2, -1):\n",
    "            if n % i == 0:\n",
    "                print (True)\n",
    "        else: print (False)\n",
    "check_prime(5)\n"
   ]
  },
  {
   "cell_type": "code",
   "execution_count": null,
   "metadata": {
    "collapsed": true
   },
   "outputs": [],
   "source": []
  }
 ],
 "metadata": {
  "kernelspec": {
   "display_name": "Python 3",
   "language": "python",
   "name": "python3"
  },
  "language_info": {
   "codemirror_mode": {
    "name": "ipython",
    "version": 3
   },
   "file_extension": ".py",
   "mimetype": "text/x-python",
   "name": "python",
   "nbconvert_exporter": "python",
   "pygments_lexer": "ipython3",
   "version": "3.6.1"
  }
 },
 "nbformat": 4,
 "nbformat_minor": 2
}
